{
 "cells": [
  {
   "cell_type": "code",
   "execution_count": 32,
   "id": "142ef146-463a-482a-952f-f94a8cdfcfe0",
   "metadata": {},
   "outputs": [],
   "source": [
    "import numpy as np"
   ]
  },
  {
   "cell_type": "markdown",
   "id": "7674f609-0d40-45b6-a9be-fa4806f89cea",
   "metadata": {},
   "source": [
    "## Task number 1\n",
    "### Create a one-dimensional array (vector) with the first 10 positive integers and print its value."
   ]
  },
  {
   "cell_type": "code",
   "execution_count": 14,
   "id": "6936003b-067e-413f-86e4-92207b121e51",
   "metadata": {},
   "outputs": [
    {
     "name": "stdout",
     "output_type": "stream",
     "text": [
      "[ 0  1  2  3  4  5  6  7  8  9 10]\n"
     ]
    }
   ],
   "source": [
    "my_array = np.arange(0, 11, dtype=int)\n",
    "print(my_array)"
   ]
  },
  {
   "cell_type": "markdown",
   "id": "03e674e9-1160-464f-8d4c-5a6ef68ce311",
   "metadata": {},
   "source": [
    "## Task number 2\n",
    "### Create a two-dimensional array (matrix) of size 3x3, fill it with zeros and print its value."
   ]
  },
  {
   "cell_type": "code",
   "execution_count": 7,
   "id": "476738f7-61a0-4cfa-a776-28832a1e44da",
   "metadata": {},
   "outputs": [
    {
     "name": "stdout",
     "output_type": "stream",
     "text": [
      "[[0 0 0]\n",
      " [0 0 0]\n",
      " [0 0 0]]\n"
     ]
    }
   ],
   "source": [
    "my_matrix = np.zeros((3, 3), dtype=int)\n",
    "print(my_matrix)"
   ]
  },
  {
   "cell_type": "markdown",
   "id": "0bb46111-58b1-47cd-b85a-b6f16f18a191",
   "metadata": {},
   "source": [
    "## Task nubmer 3\n",
    "### Create an array of size 5x5, fill it with random integers in the range from 1 to 10 and print its value."
   ]
  },
  {
   "cell_type": "code",
   "execution_count": 11,
   "id": "1470cbd8-062e-4a13-8e4d-fa2312bb77b5",
   "metadata": {},
   "outputs": [
    {
     "name": "stdout",
     "output_type": "stream",
     "text": [
      "[[ 2  9  2  4  6]\n",
      " [ 6  1  8  6  3]\n",
      " [ 9  6  9  6  2]\n",
      " [ 4  3  7 10  6]\n",
      " [ 6  5 10  9  4]]\n"
     ]
    }
   ],
   "source": [
    "random_matrix = np.random.randint(1, 11, size=(5, 5))\n",
    "print(random_matrix)"
   ]
  },
  {
   "cell_type": "markdown",
   "id": "5c8da1bd-fc98-455f-ab9d-380f128dec7a",
   "metadata": {},
   "source": [
    "## Task number 4\n",
    "### Create an array of size 4x4, fill it with random real numbers in the range from 0 to 1 and print its value."
   ]
  },
  {
   "cell_type": "code",
   "execution_count": 13,
   "id": "43b2655a-673d-4bd4-b264-cf9c899d03d6",
   "metadata": {},
   "outputs": [
    {
     "name": "stdout",
     "output_type": "stream",
     "text": [
      "[[1 0 0 0]\n",
      " [1 1 1 0]\n",
      " [1 0 1 0]\n",
      " [1 1 0 0]]\n"
     ]
    }
   ],
   "source": [
    "random_matrix = np.random.randint(0, 2, size=(4, 4))\n",
    "print(random_matrix)"
   ]
  },
  {
   "cell_type": "markdown",
   "id": "8f3ffa75-afc7-4bce-95c4-9108d512f8a2",
   "metadata": {},
   "source": [
    "## Task number 5\n",
    "### Create two one-dimensional arrays of size 5, fill them with random integers in the range from 1 to 10, and perform addition, subtraction, and multiplication operations on them."
   ]
  },
  {
   "cell_type": "code",
   "execution_count": 23,
   "id": "099bbedd-c92e-4a63-b2e8-36ed9d6f89cb",
   "metadata": {},
   "outputs": [
    {
     "name": "stdout",
     "output_type": "stream",
     "text": [
      "[ 7 11  7 10 17]\n",
      "[-3 -7  5 -2  1]\n",
      "[10 18  6 24 72]\n"
     ]
    }
   ],
   "source": [
    "random_ar_1 = np.random.randint(1, 11, size=(5))\n",
    "random_ar_2 = np.random.randint(1, 11, size=(5))\n",
    "\n",
    "print(random_ar_1 + random_ar_2)\n",
    "print(random_ar_1 - random_ar_2)\n",
    "print(random_ar_1 * random_ar_2)"
   ]
  },
  {
   "cell_type": "markdown",
   "id": "79751e0d-1fd8-486b-9925-a836840a022f",
   "metadata": {},
   "source": [
    "## Task number 6\n",
    "### Create two vectors of size 7, fill them with arbitrary numbers and find their scalar product."
   ]
  },
  {
   "cell_type": "code",
   "execution_count": 29,
   "id": "bd71d030-55da-4d46-a628-9e192423575d",
   "metadata": {},
   "outputs": [
    {
     "name": "stdout",
     "output_type": "stream",
     "text": [
      "627\n"
     ]
    }
   ],
   "source": [
    "random_ar_1 = np.random.randint(1, 21, size=(7))\n",
    "random_ar_2 = np.random.randint(1, 21, size=(7))\n",
    "\n",
    "print(np.dot(random_ar_1, random_ar_2))"
   ]
  },
  {
   "cell_type": "markdown",
   "id": "441037b2-cc86-4a73-a197-d36af6c49477",
   "metadata": {},
   "source": [
    "## Task number 7\n",
    "### Create two matrices of size 2x2 and 2x3, fill them with random integers in the range from 1 to 10, and multiply them."
   ]
  },
  {
   "cell_type": "code",
   "execution_count": 30,
   "id": "b7e11117-0950-4965-a6ce-283ad0cf3f54",
   "metadata": {},
   "outputs": [
    {
     "name": "stdout",
     "output_type": "stream",
     "text": [
      "[[ 26  39  41]\n",
      " [128 126 113]]\n"
     ]
    }
   ],
   "source": [
    "random_mat_1 = np.random.randint(1, 11, size=(2,2))\n",
    "random_mat_2 = np.random.randint(1, 11, size=(2,3))\n",
    "\n",
    "print(np.dot(random_mat_1, random_mat_2))"
   ]
  },
  {
   "cell_type": "markdown",
   "id": "0227b349-f010-49d2-b650-aad264404a31",
   "metadata": {},
   "source": [
    "## Task number 8\n",
    "### Create a 3x3 matrix, fill it with random integers in the range from 1 to 10, and find its inverse."
   ]
  },
  {
   "cell_type": "code",
   "execution_count": 31,
   "id": "032bd21b-99b9-4184-9abb-44341bcb20e7",
   "metadata": {},
   "outputs": [
    {
     "name": "stdout",
     "output_type": "stream",
     "text": [
      "[[-0.17647059  0.11764706  0.11764706]\n",
      " [-0.05042017 -0.1092437   0.46218487]\n",
      " [ 0.18487395  0.06722689 -0.36134454]]\n"
     ]
    }
   ],
   "source": [
    "random_mat = np.random.randint(1, 11, size=(3,3))\n",
    "\n",
    "print(np.linalg.inv(random_mat))"
   ]
  },
  {
   "cell_type": "markdown",
   "id": "6011c74f-51c6-4060-89d4-256161b12960",
   "metadata": {},
   "source": [
    "## Task number 9"
   ]
  },
  {
   "cell_type": "code",
   "execution_count": null,
   "id": "1945249f-b018-4e64-98a9-7c0cf2e0201b",
   "metadata": {},
   "outputs": [],
   "source": []
  }
 ],
 "metadata": {
  "kernelspec": {
   "display_name": "Python 3 (ipykernel)",
   "language": "python",
   "name": "python3"
  },
  "language_info": {
   "codemirror_mode": {
    "name": "ipython",
    "version": 3
   },
   "file_extension": ".py",
   "mimetype": "text/x-python",
   "name": "python",
   "nbconvert_exporter": "python",
   "pygments_lexer": "ipython3",
   "version": "3.10.9"
  }
 },
 "nbformat": 4,
 "nbformat_minor": 5
}
