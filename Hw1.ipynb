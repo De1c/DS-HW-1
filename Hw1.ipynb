{
 "cells": [
  {
   "cell_type": "code",
   "execution_count": 2,
   "id": "142ef146-463a-482a-952f-f94a8cdfcfe0",
   "metadata": {},
   "outputs": [],
   "source": [
    "import numpy as np"
   ]
  },
  {
   "cell_type": "markdown",
   "id": "7674f609-0d40-45b6-a9be-fa4806f89cea",
   "metadata": {},
   "source": [
    "## Task number 1\n",
    "### Create a one-dimensional array (vector) with the first 10 positive integers and print its value."
   ]
  },
  {
   "cell_type": "code",
   "execution_count": 14,
   "id": "6936003b-067e-413f-86e4-92207b121e51",
   "metadata": {},
   "outputs": [
    {
     "name": "stdout",
     "output_type": "stream",
     "text": [
      "[ 0  1  2  3  4  5  6  7  8  9 10]\n"
     ]
    }
   ],
   "source": [
    "my_array = np.arange(0, 11, dtype=int)\n",
    "print(my_array)"
   ]
  },
  {
   "cell_type": "markdown",
   "id": "03e674e9-1160-464f-8d4c-5a6ef68ce311",
   "metadata": {},
   "source": [
    "## Task number 2\n",
    "### Create a two-dimensional array (matrix) of size 3x3, fill it with zeros and print its value."
   ]
  },
  {
   "cell_type": "code",
   "execution_count": 7,
   "id": "476738f7-61a0-4cfa-a776-28832a1e44da",
   "metadata": {},
   "outputs": [
    {
     "name": "stdout",
     "output_type": "stream",
     "text": [
      "[[0 0 0]\n",
      " [0 0 0]\n",
      " [0 0 0]]\n"
     ]
    }
   ],
   "source": [
    "my_matrix = np.zeros((3, 3), dtype=int)\n",
    "print(my_matrix)"
   ]
  },
  {
   "cell_type": "markdown",
   "id": "0bb46111-58b1-47cd-b85a-b6f16f18a191",
   "metadata": {},
   "source": [
    "## Task nubmer 3\n",
    "### Create an array of size 5x5, fill it with random integers in the range from 1 to 10 and print its value."
   ]
  },
  {
   "cell_type": "code",
   "execution_count": 11,
   "id": "1470cbd8-062e-4a13-8e4d-fa2312bb77b5",
   "metadata": {},
   "outputs": [
    {
     "name": "stdout",
     "output_type": "stream",
     "text": [
      "[[ 2  9  2  4  6]\n",
      " [ 6  1  8  6  3]\n",
      " [ 9  6  9  6  2]\n",
      " [ 4  3  7 10  6]\n",
      " [ 6  5 10  9  4]]\n"
     ]
    }
   ],
   "source": [
    "random_matrix = np.random.randint(1, 11, size=(5, 5))\n",
    "print(random_matrix)"
   ]
  },
  {
   "cell_type": "markdown",
   "id": "5c8da1bd-fc98-455f-ab9d-380f128dec7a",
   "metadata": {},
   "source": [
    "## Task number 4\n",
    "### Create an array of size 4x4, fill it with random real numbers in the range from 0 to 1 and print its value."
   ]
  },
  {
   "cell_type": "code",
   "execution_count": 42,
   "id": "43b2655a-673d-4bd4-b264-cf9c899d03d6",
   "metadata": {},
   "outputs": [
    {
     "name": "stdout",
     "output_type": "stream",
     "text": [
      "[[0.78404905 0.39272703 0.38517782 0.36010531]\n",
      " [0.73201634 0.29288652 0.87143196 0.55463789]\n",
      " [0.84709936 0.74151566 0.92168619 0.21088886]\n",
      " [0.09649009 0.73650887 0.83782114 0.25877783]]\n"
     ]
    }
   ],
   "source": [
    "random_matrix = np.random.rand(4, 4)\n",
    "\n",
    "print(random_matrix)"
   ]
  },
  {
   "cell_type": "markdown",
   "id": "8f3ffa75-afc7-4bce-95c4-9108d512f8a2",
   "metadata": {},
   "source": [
    "## Task number 5\n",
    "### Create two one-dimensional arrays of size 5, fill them with random integers in the range from 1 to 10, and perform addition, subtraction, and multiplication operations on them."
   ]
  },
  {
   "cell_type": "code",
   "execution_count": 23,
   "id": "099bbedd-c92e-4a63-b2e8-36ed9d6f89cb",
   "metadata": {},
   "outputs": [
    {
     "name": "stdout",
     "output_type": "stream",
     "text": [
      "[ 7 11  7 10 17]\n",
      "[-3 -7  5 -2  1]\n",
      "[10 18  6 24 72]\n"
     ]
    }
   ],
   "source": [
    "random_ar_1 = np.random.randint(1, 11, size=(5))\n",
    "random_ar_2 = np.random.randint(1, 11, size=(5))\n",
    "\n",
    "print(random_ar_1 + random_ar_2)\n",
    "print(random_ar_1 - random_ar_2)\n",
    "print(random_ar_1 * random_ar_2)"
   ]
  },
  {
   "cell_type": "markdown",
   "id": "79751e0d-1fd8-486b-9925-a836840a022f",
   "metadata": {},
   "source": [
    "## Task number 6\n",
    "### Create two vectors of size 7, fill them with arbitrary numbers and find their scalar product."
   ]
  },
  {
   "cell_type": "code",
   "execution_count": 29,
   "id": "bd71d030-55da-4d46-a628-9e192423575d",
   "metadata": {},
   "outputs": [
    {
     "name": "stdout",
     "output_type": "stream",
     "text": [
      "627\n"
     ]
    }
   ],
   "source": [
    "random_ar_1 = np.random.randint(1, 21, size=(7))\n",
    "random_ar_2 = np.random.randint(1, 21, size=(7))\n",
    "\n",
    "print(np.dot(random_ar_1, random_ar_2))"
   ]
  },
  {
   "cell_type": "markdown",
   "id": "441037b2-cc86-4a73-a197-d36af6c49477",
   "metadata": {},
   "source": [
    "## Task number 7\n",
    "### Create two matrices of size 2x2 and 2x3, fill them with random integers in the range from 1 to 10, and multiply them."
   ]
  },
  {
   "cell_type": "code",
   "execution_count": 30,
   "id": "b7e11117-0950-4965-a6ce-283ad0cf3f54",
   "metadata": {},
   "outputs": [
    {
     "name": "stdout",
     "output_type": "stream",
     "text": [
      "[[ 26  39  41]\n",
      " [128 126 113]]\n"
     ]
    }
   ],
   "source": [
    "random_mat_1 = np.random.randint(1, 11, size=(2,2))\n",
    "random_mat_2 = np.random.randint(1, 11, size=(2,3))\n",
    "\n",
    "print(np.dot(random_mat_1, random_mat_2))"
   ]
  },
  {
   "cell_type": "markdown",
   "id": "0227b349-f010-49d2-b650-aad264404a31",
   "metadata": {},
   "source": [
    "## Task number 8\n",
    "### Create a 3x3 matrix, fill it with random integers in the range from 1 to 10, and find its inverse."
   ]
  },
  {
   "cell_type": "code",
   "execution_count": 31,
   "id": "032bd21b-99b9-4184-9abb-44341bcb20e7",
   "metadata": {},
   "outputs": [
    {
     "name": "stdout",
     "output_type": "stream",
     "text": [
      "[[-0.17647059  0.11764706  0.11764706]\n",
      " [-0.05042017 -0.1092437   0.46218487]\n",
      " [ 0.18487395  0.06722689 -0.36134454]]\n"
     ]
    }
   ],
   "source": [
    "random_mat = np.random.randint(1, 11, size=(3,3))\n",
    "\n",
    "print(np.linalg.inv(random_mat))"
   ]
  },
  {
   "cell_type": "markdown",
   "id": "6011c74f-51c6-4060-89d4-256161b12960",
   "metadata": {},
   "source": [
    "## Task number 9\n",
    "### Create a 4x4 matrix, fill it with random real numbers in the range from 0 to 1, and transpose it."
   ]
  },
  {
   "cell_type": "code",
   "execution_count": 40,
   "id": "1945249f-b018-4e64-98a9-7c0cf2e0201b",
   "metadata": {},
   "outputs": [
    {
     "name": "stdout",
     "output_type": "stream",
     "text": [
      "[[0.44642813 0.88117185 0.34029765 0.19903356]\n",
      " [0.5183789  0.38057021 0.05171318 0.01613755]\n",
      " [0.26854506 0.4254735  0.79078525 0.4666817 ]\n",
      " [0.1506999  0.19507184 0.35485438 0.12147467]]\n"
     ]
    }
   ],
   "source": [
    "random_mat = np.random.rand(4, 4)\n",
    "\n",
    "print(random_mat.T)"
   ]
  },
  {
   "cell_type": "markdown",
   "id": "5f739111-37ca-470c-ba17-da0e725497be",
   "metadata": {},
   "source": [
    "## Task number 10\n",
    "### Create a matrix of size 3x4 and a vector of size 4, fill them with random integers in the range from 1 to 10, and multiply the matrix by the vector."
   ]
  },
  {
   "cell_type": "code",
   "execution_count": 8,
   "id": "e60b5ef7-4976-4466-a84d-a35b2e842708",
   "metadata": {},
   "outputs": [
    {
     "name": "stdout",
     "output_type": "stream",
     "text": [
      "[126 136  94]\n"
     ]
    }
   ],
   "source": [
    "random_mat = np.random.randint(1, 11, size=(3,4))\n",
    "random_ar = np.random.randint(1, 11, size=(4))\n",
    "\n",
    "print(np.dot(random_mat, random_ar))"
   ]
  },
  {
   "cell_type": "markdown",
   "id": "fbaf1f9f-c93f-4e8e-ade8-eb8016fef19b",
   "metadata": {},
   "source": [
    "## Task number 11\n",
    "### Create a matrix of size 2x3 and a vector of size 3, fill them with random real numbers in the range from 0 to 1, and multiply the matrix by the vector."
   ]
  },
  {
   "cell_type": "code",
   "execution_count": 39,
   "id": "b648f8b2-c885-45dd-82f3-3a44329271d7",
   "metadata": {},
   "outputs": [
    {
     "name": "stdout",
     "output_type": "stream",
     "text": [
      "[0.49585091 0.5138499 ]\n"
     ]
    }
   ],
   "source": [
    "random_mat = np.random.rand(2, 3)\n",
    "random_ar = np.random.rand(3)\n",
    "\n",
    "print(np.dot(random_mat, random_ar))"
   ]
  },
  {
   "cell_type": "markdown",
   "id": "dfb3ef61-60bf-4de4-a489-8f71fe2a6ce1",
   "metadata": {},
   "source": [
    "## Task number 12\n",
    "### Create two matrices of size 2x2, fill them with random integers in the range from 1 to 10, and perform their elementwise multiplication."
   ]
  },
  {
   "cell_type": "code",
   "execution_count": 19,
   "id": "6e8f63d6-0871-4c5a-9e1b-746b8ba6b71f",
   "metadata": {},
   "outputs": [
    {
     "name": "stdout",
     "output_type": "stream",
     "text": [
      "[[ 6 48]\n",
      " [50 14]]\n"
     ]
    }
   ],
   "source": [
    "random_mat_1 = np.random.randint(1, 11, size=(2,2))\n",
    "random_mat_2 = np.random.randint(1, 11, size=(2,2))\n",
    "\n",
    "print(random_mat_1 * random_mat_2)"
   ]
  },
  {
   "cell_type": "markdown",
   "id": "4f9a8a3d-7583-4e38-8e41-934e88789fd9",
   "metadata": {},
   "source": [
    "## Task number 13\n",
    "### Create two matrices of size 2x2, fill them with random integers in the range from 1 to 10 and find their product."
   ]
  },
  {
   "cell_type": "code",
   "execution_count": 22,
   "id": "749911af-2d82-4ee2-81ce-96084a849d33",
   "metadata": {},
   "outputs": [
    {
     "name": "stdout",
     "output_type": "stream",
     "text": [
      "[[ 82  92]\n",
      " [101 113]]\n"
     ]
    }
   ],
   "source": [
    "random_mat_1 = np.random.randint(1, 11, size=(2,2))\n",
    "random_mat_2 = np.random.randint(1, 11, size=(2,2))\n",
    "\n",
    "print(np.dot(random_mat_1, random_mat_2))"
   ]
  },
  {
   "cell_type": "markdown",
   "id": "a9bdcdf9-771b-4003-9a9b-4e62969163b1",
   "metadata": {},
   "source": [
    "## Task number 14\n",
    "### Create a 5x5 matrix, fill it with random integers in the range from 1 to 100, and find the sum of the matrix elements."
   ]
  },
  {
   "cell_type": "code",
   "execution_count": 35,
   "id": "c51faa56-5eea-46df-99be-77307634f319",
   "metadata": {},
   "outputs": [
    {
     "name": "stdout",
     "output_type": "stream",
     "text": [
      "1310\n"
     ]
    }
   ],
   "source": [
    "random_big_mat = np.random.randint(1, 101, size=(5,5))\n",
    "\n",
    "print(np.sum(random_big_mat))"
   ]
  },
  {
   "cell_type": "markdown",
   "id": "cbedbe1e-08a5-484e-aba7-4361d7458c0a",
   "metadata": {},
   "source": [
    "## Task number 15\n",
    "### Create two matrices of size 4x4, fill them with random integers in the range from 1 to 10 and find their difference."
   ]
  },
  {
   "cell_type": "code",
   "execution_count": 36,
   "id": "ecd04b40-c959-4fb6-88b6-d9e81362b489",
   "metadata": {},
   "outputs": [
    {
     "name": "stdout",
     "output_type": "stream",
     "text": [
      "[[ 1 -7  0 -3]\n",
      " [ 0  0  2  0]\n",
      " [ 1  1  6  7]\n",
      " [-2 -2 -6 -3]]\n"
     ]
    }
   ],
   "source": [
    "random_mat_1 = np.random.randint(1, 11, size=(4,4))\n",
    "random_mat_2 = np.random.randint(1, 11, size=(4,4))\n",
    "\n",
    "print(random_mat_1 - random_mat_2)"
   ]
  },
  {
   "cell_type": "markdown",
   "id": "d56259de-8e66-4458-ab0b-9794d079d6d9",
   "metadata": {},
   "source": [
    "## Task number 16\n",
    "### Create a matrix of size 3x3, fill it with random real numbers in the range from 0 to 1, and find the column vector containing the sum of the elements of each row of the matrix."
   ]
  },
  {
   "cell_type": "code",
   "execution_count": 44,
   "id": "32186efe-0a38-4822-af95-aa135a389b46",
   "metadata": {},
   "outputs": [
    {
     "name": "stdout",
     "output_type": "stream",
     "text": [
      "[[1.73220855]\n",
      " [1.15616324]\n",
      " [1.88692407]]\n"
     ]
    }
   ],
   "source": [
    "random_mat = np.random.rand(3, 3)\n",
    "vector = np.sum(random_mat, axis=1)\n",
    "column_vector = vector.reshape(-1, 1)\n",
    "\n",
    "print(column_vector)"
   ]
  },
  {
   "cell_type": "markdown",
   "id": "17eff14d-973f-4494-8a6b-65577d96a98e",
   "metadata": {},
   "source": [
    "## Task number 17\n",
    "### Create a 3x4 matrix with any integers and create a matrix with the squares of these numbers."
   ]
  },
  {
   "cell_type": "code",
   "execution_count": 45,
   "id": "d3464f0d-3573-47da-a41a-6927e0749e31",
   "metadata": {},
   "outputs": [
    {
     "name": "stdout",
     "output_type": "stream",
     "text": [
      "[[81  9  4 49]\n",
      " [ 4 49 81 49]\n",
      " [49  9 49 16]]\n"
     ]
    }
   ],
   "source": [
    "mat_1 = np.random.randint(1, 11, size=(3,4))\n",
    "\n",
    "print(np.square(mat_1))"
   ]
  },
  {
   "cell_type": "markdown",
   "id": "68175777-2a33-4dea-99ee-bea41e592ac8",
   "metadata": {},
   "source": [
    "## Task number 18\n",
    "### Створіть вектор розміром 4, заповніть його випадковими цілими числами в діапазоні від 1 до 50 та знайдіть вектор з квадратними коренями цих чисел."
   ]
  },
  {
   "cell_type": "code",
   "execution_count": 50,
   "id": "dcc79b3d-90a6-444a-a9cf-d796b26aa4d2",
   "metadata": {},
   "outputs": [
    {
     "name": "stdout",
     "output_type": "stream",
     "text": [
      "[ 7 11 29 46] [2.64575131 3.31662479 5.38516481 6.78232998]\n"
     ]
    }
   ],
   "source": [
    "random_ar_1 = np.random.randint(1, 51, size=4)\n",
    "\n",
    "print(random_ar_1, np.sqrt(random_ar_1))"
   ]
  },
  {
   "cell_type": "code",
   "execution_count": null,
   "id": "9c3d1a62-78a6-4800-aef1-7cd8267048ae",
   "metadata": {},
   "outputs": [],
   "source": []
  }
 ],
 "metadata": {
  "kernelspec": {
   "display_name": "Python 3 (ipykernel)",
   "language": "python",
   "name": "python3"
  },
  "language_info": {
   "codemirror_mode": {
    "name": "ipython",
    "version": 3
   },
   "file_extension": ".py",
   "mimetype": "text/x-python",
   "name": "python",
   "nbconvert_exporter": "python",
   "pygments_lexer": "ipython3",
   "version": "3.10.9"
  }
 },
 "nbformat": 4,
 "nbformat_minor": 5
}
